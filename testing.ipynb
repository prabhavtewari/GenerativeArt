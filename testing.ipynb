{
 "cells": [
  {
   "cell_type": "code",
   "execution_count": 1,
   "metadata": {},
   "outputs": [],
   "source": [
    "import random\n",
    "from datetime import datetime\n",
    "from PIL import Image, ImageDraw"
   ]
  },
  {
   "cell_type": "code",
   "execution_count": 71,
   "metadata": {},
   "outputs": [
    {
     "name": "stdout",
     "output_type": "stream",
     "text": [
      "Run ID : 1646555975.561233\n"
     ]
    }
   ],
   "source": [
    "# ARCS\n",
    "\n",
    "run_id = datetime.timestamp(datetime.now())\n",
    "print('Run ID : '+str(run_id))\n",
    "image = Image.new('RGB', (2000, 2000))\n",
    "width, height = image.size\n",
    "r,g,b = 0,255,0\n",
    "drawImage = ImageDraw.Draw(image)\n",
    "for y in range(0, height, 35):\n",
    "    b=b+4\n",
    "    r=r+4\n",
    "    g=g-4\n",
    "    color = (r, g, b)\n",
    "\n",
    "    drawImage.arc([0, y-250, width/4, y+250], start=180,\n",
    "                  end=0, width=5, fill=color)\n",
    "    drawImage.arc([width/4 - 5, y-250, width/2, y+250],\n",
    "                  start=0, end=180, width=5, fill=color)\n",
    "    drawImage.arc([width/2 - 5, y-250, 3*(width/4), y+250],\n",
    "                  start=180, end=0, width=5, fill=color)\n",
    "    drawImage.arc([3*(width/4) - 5, y-250, width, y+250],\n",
    "                  start=0, end=180, width=5, fill=color)\n",
    "\n",
    "image.save(f'./output/arcs-{run_id}.png')\n"
   ]
  },
  {
   "cell_type": "code",
   "execution_count": null,
   "metadata": {},
   "outputs": [],
   "source": [
    "# Random Squares\n",
    "\n",
    "run_id = datetime.timestamp(datetime.now())\n",
    "print('Run ID : '+str(run_id))\n",
    "image = Image.new('RGB', (2000, 2000))\n",
    "width, height = image.size\n",
    "\n",
    "dim = 100\n",
    "numberOfSquares = random.randint(5, 400)\n",
    "\n",
    "drawImage = ImageDraw.Draw(image)\n",
    "for i in range(0, numberOfSquares):\n",
    "    x = random.randint(0, width)\n",
    "    y = random.randint(0, height)\n",
    "    squareShape = [\n",
    "        (x, y), (x+dim, y+dim)\n",
    "    ]\n",
    "    drawImage.rectangle(squareShape, fill=(\n",
    "        255, random.randint(0, 255), random.randint(0, 255)))\n",
    "\n",
    "image.save(f'./output/rand-squares-{run_id}.png')"
   ]
  },
  {
   "cell_type": "code",
   "execution_count": 56,
   "metadata": {},
   "outputs": [
    {
     "name": "stdout",
     "output_type": "stream",
     "text": [
      "Run ID : 1646586005.232834\n"
     ]
    }
   ],
   "source": [
    "# Random Points\n",
    "\n",
    "run_id = datetime.timestamp(datetime.now())\n",
    "print('Run ID : '+str(run_id))\n",
    "image = Image.new('RGB', (500, 500))\n",
    "width, height = image.size\n",
    "padding = 50\n",
    "\n",
    "\n",
    "def random_colour():\n",
    "    return (random.randint(0, 255), random.randint(0, 255), random.randint(0, 255))\n",
    "\n",
    "\n",
    "def interpolate(f_co, t_co, interval):\n",
    "    r=1-interval\n",
    "    return(\n",
    "        int(s_colour[0]*r+e_colour[0]*interval),\n",
    "        int(s_colour[1]*r+e_colour[1]*interval),\n",
    "        int(s_colour[2]*r+e_colour[2]*interval),\n",
    "    )\n",
    "\n",
    "def hilo(a, b, c):\n",
    "    if c < b: b, c = c, b\n",
    "    if b < a: a, b = b, a\n",
    "    if c < b: b, c = c, b\n",
    "    return a + c\n",
    "\n",
    "def complement(r, g, b):\n",
    "    k = hilo(r, g, b)\n",
    "    return tuple(k - u for u in (r, g, b))\n",
    "\n",
    "points = []\n",
    "for i in range(0, 9):\n",
    "    points.append((random.randint(padding, width-padding),\n",
    "                  random.randint(padding, height-padding)))\n",
    "\n",
    "\n",
    "min_x = min([p[0] for p in points])\n",
    "max_x = max([p[0] for p in points])\n",
    "min_y = min([p[1] for p in points])\n",
    "max_y = max([p[1] for p in points])\n",
    "\n",
    "x_offset = (min_x - padding) - (width - padding - max_x)\n",
    "y_offset = (min_y - padding) - (height - padding - max_y)\n",
    "\n",
    "for i, point in enumerate(points):\n",
    "    points[i] = (point[0] - x_offset // 2, point[1] - y_offset // 2)\n",
    "\n",
    "\n",
    "drawImage = ImageDraw.Draw(image)\n",
    "s_colour = random_colour()\n",
    "e_colour = random_colour()\n",
    "# e_colour = complement(s_colour[0], s_colour[1],s_colour[2])\n",
    "\n",
    "for i, p in enumerate(points):\n",
    "    if(i == len(points)-1):\n",
    "        drawImage.line([p, points[0]], width=2+i, fill=interpolate(s_colour,e_colour,i/9))\n",
    "    else:\n",
    "        drawImage.line([p, points[i+1]], width=2+i, fill=interpolate(s_colour,e_colour,i/9))\n",
    "\n",
    "\n",
    "\n",
    "image.save(f'./output/points-{run_id}.png')\n"
   ]
  },
  {
   "cell_type": "code",
   "execution_count": null,
   "metadata": {},
   "outputs": [],
   "source": []
  }
 ],
 "metadata": {
  "interpreter": {
   "hash": "2be5faf79681da6f2a61fdfdd5405d65d042280f7fba6178067603e3a2925119"
  },
  "kernelspec": {
   "display_name": "Python 3.10.1 64-bit",
   "language": "python",
   "name": "python3"
  },
  "language_info": {
   "codemirror_mode": {
    "name": "ipython",
    "version": 3
   },
   "file_extension": ".py",
   "mimetype": "text/x-python",
   "name": "python",
   "nbconvert_exporter": "python",
   "pygments_lexer": "ipython3",
   "version": "3.10.1"
  },
  "orig_nbformat": 4
 },
 "nbformat": 4,
 "nbformat_minor": 2
}

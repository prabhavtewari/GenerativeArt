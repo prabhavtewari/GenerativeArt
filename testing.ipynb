{
 "cells": [
  {
   "cell_type": "code",
   "execution_count": 11,
   "metadata": {},
   "outputs": [],
   "source": [
    "import random\n",
    "from datetime import datetime\n",
    "from PIL import Image, ImageDraw"
   ]
  },
  {
   "cell_type": "code",
   "execution_count": 71,
   "metadata": {},
   "outputs": [
    {
     "name": "stdout",
     "output_type": "stream",
     "text": [
      "Run ID : 1646555975.561233\n"
     ]
    }
   ],
   "source": [
    "# ARCS\n",
    "\n",
    "run_id = datetime.timestamp(datetime.now())\n",
    "print('Run ID : '+str(run_id))\n",
    "image = Image.new('RGB', (2000, 2000))\n",
    "width, height = image.size\n",
    "r,g,b = 0,255,0\n",
    "drawImage = ImageDraw.Draw(image)\n",
    "for y in range(0, height, 35):\n",
    "    b=b+4\n",
    "    r=r+4\n",
    "    g=g-4\n",
    "    color = (r, g, b)\n",
    "\n",
    "    drawImage.arc([0, y-250, width/4, y+250], start=180,\n",
    "                  end=0, width=5, fill=color)\n",
    "    drawImage.arc([width/4 - 5, y-250, width/2, y+250],\n",
    "                  start=0, end=180, width=5, fill=color)\n",
    "    drawImage.arc([width/2 - 5, y-250, 3*(width/4), y+250],\n",
    "                  start=180, end=0, width=5, fill=color)\n",
    "    drawImage.arc([3*(width/4) - 5, y-250, width, y+250],\n",
    "                  start=0, end=180, width=5, fill=color)\n",
    "\n",
    "image.save(f'./output/arcs-{run_id}.png')\n"
   ]
  },
  {
   "cell_type": "code",
   "execution_count": null,
   "metadata": {},
   "outputs": [],
   "source": [
    "# Random Squares\n",
    "\n",
    "run_id = datetime.timestamp(datetime.now())\n",
    "print('Run ID : '+str(run_id))\n",
    "image = Image.new('RGB', (2000, 2000))\n",
    "width, height = image.size\n",
    "\n",
    "dim = 100\n",
    "numberOfSquares = random.randint(5, 400)\n",
    "\n",
    "drawImage = ImageDraw.Draw(image)\n",
    "for i in range(0, numberOfSquares):\n",
    "    x = random.randint(0, width)\n",
    "    y = random.randint(0, height)\n",
    "    squareShape = [\n",
    "        (x, y), (x+dim, y+dim)\n",
    "    ]\n",
    "    drawImage.rectangle(squareShape, fill=(\n",
    "        255, random.randint(0, 255), random.randint(0, 255)))\n",
    "\n",
    "image.save(f'./output/rand-squares-{run_id}.png')"
   ]
  }
 ],
 "metadata": {
  "interpreter": {
   "hash": "2be5faf79681da6f2a61fdfdd5405d65d042280f7fba6178067603e3a2925119"
  },
  "kernelspec": {
   "display_name": "Python 3.10.1 64-bit",
   "language": "python",
   "name": "python3"
  },
  "language_info": {
   "codemirror_mode": {
    "name": "ipython",
    "version": 3
   },
   "file_extension": ".py",
   "mimetype": "text/x-python",
   "name": "python",
   "nbconvert_exporter": "python",
   "pygments_lexer": "ipython3",
   "version": "3.10.1"
  },
  "orig_nbformat": 4
 },
 "nbformat": 4,
 "nbformat_minor": 2
}
